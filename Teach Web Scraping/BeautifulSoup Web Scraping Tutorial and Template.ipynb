{
 "cells": [
  {
   "cell_type": "markdown",
   "id": "271d24c1",
   "metadata": {},
   "source": [
    "# Web Scraping Template\n",
    "\n",
    "## Basic Jupyter Notebook Operations\n",
    "\n",
    "to run a cell (a gray box): SHIFT+ENTER\n",
    "\n",
    "to comment/ uncomment a line or selected lines: CTRL+/\n",
    "\n",
    "If Jupyter Notebook gets stuck for too long, as indicated by the spinning circle symbol in the \"In \\[ \\]:\" to the left of each cell, save and checkpoint the file by hitting CTRL+S, then click \"Kernel\" on the top menu bar and \"Restart & Clear Output\". If this does not work, close Jupyter Notebook and launch it again from Anaconda Navigator, and everything should be refreshed."
   ]
  },
  {
   "cell_type": "code",
   "execution_count": 1,
   "id": "9a1109b7",
   "metadata": {},
   "outputs": [],
   "source": [
    "from bs4 import BeautifulSoup\n",
    "import requests\n",
    "import pandas as pd"
   ]
  },
  {
   "cell_type": "code",
   "execution_count": null,
   "id": "0acd727c",
   "metadata": {},
   "outputs": [],
   "source": [
    "# PURPOSE: a function that takes in an url and returns a list of wanted information\n",
    "\n",
    "def find_info(url):\n",
    "    try:\n",
    "        headers = {\n",
    "            'User-agent':\n",
    "            \"Mozilla/5.0 (Windows NT 10.0; Win64; x64) AppleWebKit/537.36 (KHTML, like Gecko) Chrome/70.0.3538.102 Safari/537.36 Edge/18.19582\"\n",
    "        }\n",
    "        \n",
    "        # no need to change\n",
    "        html = requests.get(url, headers=headers).text \n",
    "        soup = BeautifulSoup(html, \"html.parser\")\n",
    "        \n",
    "        # what you scrape depends on the class_ variable\n",
    "        google_quick_answer = soup.find( \"div\" , class_='vk_bk dDoNo FzvWSb XcVN5d').text\n",
    "        first_search_result = soup.find( \"h3\" , class_='LC20lb DKV0Md').text\n",
    "\n",
    "        return [google_quick_answer, first_search_result]\n",
    "    \n",
    "    except:\n",
    "        # returns None when the code in the 'try' clause produces error\n",
    "        return None\n",
    "\n",
    "# Run this cell to test with one link. You can change the city_and_state text in the quotation marks.\n",
    "what_you_would_type_in_the_search_bar = \"What is the day today?\"\n",
    "print(find_info(\"https://www.google.com/search?q=\" + what_you_would_type_in_the_search_bar)) "
   ]
  },
  {
   "cell_type": "code",
   "execution_count": null,
   "id": "87a9d143",
   "metadata": {},
   "outputs": [],
   "source": [
    "# TO DO: put in your own directory to the file \"cities not found on City Redirects.csv\" \n",
    "# EXAMPLE: \"C:/Users/tsaie/OneDrive/Desktop/EEP DBM/EEP-City-Redirects/cities not found on City Redirects.csv\"\n",
    "\n",
    "directory = \"C:/Users/tsaie/OneDrive/Desktop/EEP DBM/EEP-City-Redirects/cities not found on City Redirects.csv\"\n",
    "\n",
    "table = pd.read_csv(directory) # change .read_csv to .read_excel if using .xlsx file"
   ]
  },
  {
   "cell_type": "code",
   "execution_count": null,
   "id": "eef6f504",
   "metadata": {},
   "outputs": [],
   "source": [
    "# TO DO: put in your own start_index and end_index. They indicate which row to start and end at. \n",
    "# NOTE: The first row has an index of 0. \n",
    "# NOTE: Don't worry if the end_index is greater than the total number of rows; it will default to the end of table.\n",
    "\n",
    "start_index = 1000\n",
    "end_index = 2000\n",
    "\n",
    "table_section = table.iloc[start_index:end_index] "
   ]
  },
  {
   "cell_type": "code",
   "execution_count": null,
   "id": "dc91fb39",
   "metadata": {},
   "outputs": [],
   "source": [
    "# PURPOSE: fills in the section of table called test_table with latitude, longitude, first search result title, actual place searched, did you mean\n",
    "\n",
    "input_col = 'google search url'\n",
    "output_col_1 = 'google quick answer'\n",
    "output_col_2 = 'first search result'\n",
    "\n",
    "for index, row in table_section.iterrows():\n",
    "    url = row[input_col]\n",
    "    info = find_latitude_longitude(url)\n",
    "    if info == None:\n",
    "        google_quick_answer, first_search_result = None, None\n",
    "    else:\n",
    "        google_quick_answer, first_search_result = info[0], info[1]\n",
    "    \n",
    "    table_section.at[index, output_col_1] = google_quick_answer\n",
    "    table_section.at[index, output_col_2] = first_search_result\n",
    "    \n",
    "    # OPTIONAL: print useful information, in case need to debug later\n",
    "    print(index, google_quick_answer, first_search_result)\n",
    "\n",
    "table_section"
   ]
  },
  {
   "cell_type": "code",
   "execution_count": null,
   "id": "daa5e851",
   "metadata": {},
   "outputs": [],
   "source": [
    "# Uncomment the \"table_section.to_excel\" line below and run this cell to download the resulting table as an Excel file. \n",
    "# Rename the file by changing the info in (Firstname Lastname Rows N-N ver.N)\n",
    "\n",
    "# table_section.to_excel(\"name Your File.xlsx\")"
   ]
  }
 ],
 "metadata": {
  "kernelspec": {
   "display_name": "Python 3",
   "language": "python",
   "name": "python3"
  },
  "language_info": {
   "codemirror_mode": {
    "name": "ipython",
    "version": 3
   },
   "file_extension": ".py",
   "mimetype": "text/x-python",
   "name": "python",
   "nbconvert_exporter": "python",
   "pygments_lexer": "ipython3",
   "version": "3.8.8"
  }
 },
 "nbformat": 4,
 "nbformat_minor": 5
}
