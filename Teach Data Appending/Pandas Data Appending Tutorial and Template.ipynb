{
 "cells": [
  {
   "cell_type": "markdown",
   "id": "26014731",
   "metadata": {},
   "source": [
    "# Pandas Template for Working With Data Tables\n",
    "\n",
    "## Basic Jupyter Notebook Operations\n",
    "\n",
    "to run a cell (a gray box): SHIFT+ENTER\n",
    "\n",
    "to comment/ uncomment a line or selected lines: CTRL+/ "
   ]
  },
  {
   "cell_type": "code",
   "execution_count": null,
   "id": "58eee5ed",
   "metadata": {},
   "outputs": [],
   "source": [
    "# pandas is a Python library for working with data tables. It contains helpful functions that we can call on.\n",
    "import pandas as pd"
   ]
  },
  {
   "cell_type": "markdown",
   "id": "9f768d02",
   "metadata": {},
   "source": [
    "## Read In the Data Tables\n",
    "\n",
    "Note: To successfully read in an Excel file (.xlsx), you cannot have the file open when you run the cell, or it will produce an error. You can open the file after running the cell."
   ]
  },
  {
   "cell_type": "code",
   "execution_count": null,
   "id": "26cf9835",
   "metadata": {
    "scrolled": true
   },
   "outputs": [],
   "source": [
    "# read in a file using pd.read_excel(file_path)\n",
    "append_from = pd.read_excel('C:/Users/tsaie/OneDrive/Desktop/EEP DBM/EEP Teach Appending Data/practice appending address data.xlsx')\n",
    "append_from_primary_key = 'Unique ID' # copy paste the column name for append_from's primary key\n",
    "\n",
    "# if the primary key (e.g. unique id) is not in string/text format:\n",
    "# append_from[append_from_primary_key] = append_from[append_from_primary_key].astype(\"str\")\n",
    "\n",
    "# if the primary key is mistakenly read as an integer with .0 at the end:\n",
    "# append_from[append_from_primary_key] = append_from[append_from_primary_key].apply(lambda x: str(x).replace(\".0\",\"\"))\n",
    "\n",
    "\n",
    "# append_from is a dataframe (same thing as data table)\n",
    "# 'append_from' is a variable name that refers to the excel file we read in. Display what's in the dataframe:\n",
    "append_from"
   ]
  },
  {
   "cell_type": "code",
   "execution_count": null,
   "id": "296123d0",
   "metadata": {},
   "outputs": [],
   "source": [
    "# append_to is the dataframe that we want to append data to. It is usually the bigger table/ the Main\n",
    "\n",
    "append_to = pd.read_excel('C:/Users/tsaie/OneDrive/Desktop/EEP DBM/EEP Teach Appending Data/practice database.xlsx')\n",
    "append_to_primary_key = 'eep_unique_id' # copy paste the column name for append_to's primary key\n",
    "\n",
    "# if the primary key (e.g. unique id) is not in string/text format:\n",
    "# append_to[append_to_primary_key] = append_to[append_to_primary_key].astype(\"str\")\n",
    "\n",
    "# if the primary key is mistakenly read as an integer with .0 at the end:\n",
    "# append_to[append_to_primary_key] = append_to[append_to_primary_key].apply(lambda x: str(x).replace(\".0\",\"\"))\n",
    "\n",
    "append_to"
   ]
  },
  {
   "cell_type": "markdown",
   "id": "445b2906",
   "metadata": {},
   "source": [
    "## Basic Pandas Operations"
   ]
  },
  {
   "cell_type": "code",
   "execution_count": null,
   "id": "ab53f460",
   "metadata": {},
   "outputs": [],
   "source": [
    "# get column (a single column is also called a \"series\", which acts like an array)\n",
    "var1 = append_to.get('eep_unique_id')\n",
    "var1"
   ]
  },
  {
   "cell_type": "code",
   "execution_count": null,
   "id": "4888ade1",
   "metadata": {},
   "outputs": [],
   "source": [
    "# get multiple columns\n",
    "var2 = append_to.get(['eep_unique_id', 'business_name', 'website'])\n",
    "var2"
   ]
  },
  {
   "cell_type": "code",
   "execution_count": null,
   "id": "aad46069",
   "metadata": {},
   "outputs": [],
   "source": [
    "# get a row using .iloc[row number] or many rows using .iloc[starting_row_num: ending_row_num (not inclusive)]\n",
    "var3 = append_to.iloc[9:12]\n",
    "var3"
   ]
  },
  {
   "cell_type": "code",
   "execution_count": null,
   "id": "ff81af35",
   "metadata": {},
   "outputs": [],
   "source": [
    "# set index to a specified column and get a row using .loc[index]\n",
    "append_to_set_unique_ID_as_index = append_to.set_index('eep_unique_id')\n",
    "var4 = append_to_set_unique_ID_as_index.loc[898780]\n",
    "var4"
   ]
  },
  {
   "cell_type": "code",
   "execution_count": null,
   "id": "23ccddf4",
   "metadata": {},
   "outputs": [],
   "source": [
    "# get a specific cell\n",
    "\n",
    "the_row_I_want = append_to_set_unique_ID_as_index.loc[898780]\n",
    "the_cell_I_want = the_row_I_want.get('business_name')\n",
    "the_cell_I_want"
   ]
  },
  {
   "cell_type": "code",
   "execution_count": null,
   "id": "2b53a684",
   "metadata": {},
   "outputs": [],
   "source": [
    "# create a dataframe\n",
    "\n",
    "new_df = pd.DataFrame(data={'col1': ['A1', 'A2'], 'col2': ['B1', 'B2']})\n",
    "new_df"
   ]
  },
  {
   "cell_type": "code",
   "execution_count": null,
   "id": "7012b175",
   "metadata": {},
   "outputs": [],
   "source": [
    "# add a column\n",
    "\n",
    "new_df['new column name'] = ['C1','woooooooo']\n",
    "new_df"
   ]
  },
  {
   "cell_type": "code",
   "execution_count": null,
   "id": "68eebfd0",
   "metadata": {},
   "outputs": [],
   "source": [
    "# add a row (there are multiple ways)\n",
    "\n",
    "new_df = new_df.append({'col1': 'A3','col2': 'B3','new column name':'new row item'}, ignore_index=True)\n",
    "new_df"
   ]
  },
  {
   "cell_type": "code",
   "execution_count": null,
   "id": "83c33542",
   "metadata": {},
   "outputs": [],
   "source": [
    "# change a specific cell in a dataframe using df.at[index, column_name]\n",
    "# for more ways, see https://www.askpython.com/python-modules/pandas/update-the-value-of-a-row-dataframe\n",
    "\n",
    "new_df.at[1, 'new column name'] = ':D'\n",
    "new_df"
   ]
  },
  {
   "cell_type": "markdown",
   "id": "32dff040",
   "metadata": {},
   "source": [
    "## Appending Data using for loop, .iterrows(), and .at[index, col_name]\n",
    "\n",
    "First make sure the two dataframes share a column we can match up, called a \"primary key\" (e.g. 'eep_unique_id' in append_to and 'Unique ID' in append_from). \"primary key\" has to be unique values - cannot have duplicates.\n",
    "\n",
    "We've already set the database's (in this case, append_to's) index to its primary key (in this case, eep_unique_id), so it is easy to locate the row we want using the primary key."
   ]
  },
  {
   "cell_type": "code",
   "execution_count": null,
   "id": "ca0c77dc",
   "metadata": {},
   "outputs": [],
   "source": [
    "# Copy the eep_unique_id column and set the copied version (in this case, unique_id) as index. \n",
    "# We don't want to set the original eep_unique_id as index because that column will shift to the very left and change the original column order.\n",
    "\n",
    "append_to_index_name = 'UID' # you can name it anything sensible\n",
    "\n",
    "append_to_unique_id = append_to.get(append_to_primary_key)\n",
    "append_to[append_to_index_name] = append_to_unique_id\n",
    "append_to = append_to.set_index(append_to_index_name)"
   ]
  },
  {
   "cell_type": "code",
   "execution_count": null,
   "id": "f725a6c3",
   "metadata": {},
   "outputs": [],
   "source": [
    "append_from_col = 'Street Address'\n",
    "append_to_col = 'street_address'\n",
    "\n",
    "# loop through all rows in append_from\n",
    "for index, row in append_from.iterrows():\n",
    "    \n",
    "    # get the unique ID for this row in append_from\n",
    "    unique_id = row.get(append_from_primary_key)\n",
    "    \n",
    "    if unique_id in append_to.index:\n",
    "        # locate the row with this unique ID in append_to. then fill in the value for the new column\n",
    "        append_to.at[unique_id, append_to_col] = row[append_from_col]\n",
    "\n",
    "        # OPTIONAL: print useful information, in case need to debug later. \n",
    "        # Comment this line below (CTRL + /) if you don't want to execute it.\n",
    "        print(\"index: {var1} | {var2}: {var3} | {var4}: {var5}\".format(var1=index, var2=append_to_primary_key, var3=unique_id, var4=append_from_col, var5=row[append_from_col]))\n",
    "\n",
    "# display the resulting table at the very end\n",
    "append_to"
   ]
  },
  {
   "cell_type": "code",
   "execution_count": null,
   "id": "40760c70",
   "metadata": {},
   "outputs": [],
   "source": [
    "# drop the extra index column\n",
    "\n",
    "append_to = append_to.reset_index().drop(columns=append_to_index_name)\n",
    "append_to"
   ]
  },
  {
   "cell_type": "markdown",
   "id": "f498a3c0",
   "metadata": {},
   "source": [
    "## Save the File to Your Local PC"
   ]
  },
  {
   "cell_type": "code",
   "execution_count": null,
   "id": "fc335ac7",
   "metadata": {},
   "outputs": [],
   "source": [
    "# save the file to your local pc, remember to change the version number\n",
    "\n",
    "append_to.to_excel('Test File v1.xlsx')\n",
    "\n",
    "# you can also save a directory path along with the file name, so this file will be saved to the folder you specified\n",
    "# append_to.to_excel('C:/Users/tsaie/OneDrive/Desktop/EEP DBM/EEP Teach Appendinng Data/Name Your File.xlsx')"
   ]
  }
 ],
 "metadata": {
  "kernelspec": {
   "display_name": "Python 3",
   "language": "python",
   "name": "python3"
  },
  "language_info": {
   "codemirror_mode": {
    "name": "ipython",
    "version": 3
   },
   "file_extension": ".py",
   "mimetype": "text/x-python",
   "name": "python",
   "nbconvert_exporter": "python",
   "pygments_lexer": "ipython3",
   "version": "3.8.8"
  }
 },
 "nbformat": 4,
 "nbformat_minor": 5
}
